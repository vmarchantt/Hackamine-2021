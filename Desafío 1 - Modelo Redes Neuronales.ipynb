{
 "cells": [
  {
   "cell_type": "markdown",
   "metadata": {},
   "source": [
    "# Modelo de Redes Neuronales \n",
    "\n",
    "Se decidió utilizar un modelo de redes neuronales por la facilidad que tienen de manejar grandes volúmenes de datos además de la flexibilidad al momento de recibir distintos tipos de input"
   ]
  },
  {
   "cell_type": "code",
   "execution_count": 1,
   "metadata": {},
   "outputs": [],
   "source": [
    "import pandas as pd\n",
    "from pathlib import Path\n",
    "import numpy as np\n",
    "BASE_PATH = Path().resolve().parent\n",
    "PATH_DATA = BASE_PATH.joinpath(\"Hackamine_caso1\\Data\\Desafio DF\")\n",
    "\n",
    "#C:\\Users\\ramir\\OneDrive\\Desktop\\Hackamine_caso1\\Data\\Desafio DF\n",
    "#tactical_asset_hackamine = pd.read_excel(PATH_DATA.joinpath(\"tactical_asset_hackamine.xlsx\"))\n",
    "#minecare_data_hackamine = pd.read_csv(PATH_DATA.joinpath(\"minecare_data_hackamine.csv\"))\n",
    "#dispatch_tum_history_hackamine = pd.read_csv(PATH_DATA.joinpath(\"dispatch_tum_history_hackamine.csv\"))\n",
    "#sap_work_order_hackamine = pd.read_csv(PATH_DATA.joinpath(\"sap_work_order_hackamine.csv\"))\n",
    "#catastrophic_failures_hackamine = pd.read_csv(PATH_DATA.joinpath(\"catastrophic_failures_hackamine.csv\"))\n",
    "reemplazo_historico_componentes = pd.read_excel(PATH_DATA.joinpath(\"reemplazo_historico_componentes.xlsx\"))\n",
    "#Components_details  = pd.read_excel(PATH_DATA.joinpath(\"Components_details.xlsx\"))\n",
    "#Mb25_data_hackamine = pd.read_csv(PATH_DATA.joinpath(\"Mb25_data_hackamine.csv\"))\n"
   ]
  },
  {
   "cell_type": "markdown",
   "metadata": {},
   "source": [
    "## Se desea predecir la durabilidad de una componente luego de ser cambiada en un equipo"
   ]
  },
  {
   "cell_type": "markdown",
   "metadata": {},
   "source": [
    "Se filtran los datos considerando las variables relevantes o que podrían afectar la durabilidad de una componente de un equipo. "
   ]
  },
  {
   "cell_type": "code",
   "execution_count": 2,
   "metadata": {},
   "outputs": [],
   "source": [
    "df_reemplazo_historico_componentes=reemplazo_historico_componentes[ [ 'MODELO','EQUIPO','FECHA CAMBIO','COMPONENTE','HORAS ACUMULADAS','PCR' ]]\n",
    "df_reemplazo_historico_componentes=df_reemplazo_historico_componentes.sort_values(by=\"FECHA CAMBIO\")\n",
    "df_reemplazo_historico_componentes.dropna(inplace=True)\n",
    "df_reemplazo_historico_componentes= df_reemplazo_historico_componentes.loc[:, df_reemplazo_historico_componentes.columns != 'FECHA CAMBIO']   \n"
   ]
  },
  {
   "cell_type": "markdown",
   "metadata": {},
   "source": [
    "Algunas variables son del tipo categorico, por lo que es necesario codificarlas a numeros para luego se ingresadas al modelo de predicción."
   ]
  },
  {
   "cell_type": "code",
   "execution_count": 6,
   "metadata": {},
   "outputs": [],
   "source": [
    "import category_encoders as ce # libreria para codificar\n",
    "\n",
    "# Las variabes son componente, equipo y modelo\n",
    "###\n",
    "encoder=ce.OneHotEncoder(cols='COMPONENTE',handle_unknown='return_nan',return_df=True,use_cat_names=True)\n",
    "encoder1=ce.OneHotEncoder(cols='EQUIPO',handle_unknown='return_nan',return_df=True,use_cat_names=True)\n",
    "encoder2=ce.OneHotEncoder(cols='MODELO',handle_unknown='return_nan',return_df=True,use_cat_names=True)\n",
    "##\n",
    "data_encoded = encoder.fit_transform(df_reemplazo_historico_componentes)\n",
    "data_encoded = encoder1.fit_transform(data_encoded)\n",
    "data_encoded = encoder2.fit_transform(data_encoded)\n",
    "## quitar valores NaN que pueden provocar futuros problemas\n",
    "data_encoded.dropna(inplace=True)"
   ]
  },
  {
   "cell_type": "markdown",
   "metadata": {},
   "source": [
    "Escalar los datos:"
   ]
  },
  {
   "cell_type": "code",
   "execution_count": 4,
   "metadata": {},
   "outputs": [],
   "source": [
    "from sklearn.preprocessing import MinMaxScaler\n",
    "scaler = MinMaxScaler()  # unscaled = scaler.inverse_transform(scaled)\n",
    "\n",
    "## df de variables relevantes para el modelo\n",
    "data_encoded_x = data_encoded.loc[:, data_encoded.columns != 'HORAS ACUMULADAS'].values\n",
    "data_encoded_x = scaler.fit_transform(data_encoded_x)\n",
    "## df de variable a predecir\n",
    "data_encoded_y = data_encoded[['HORAS ACUMULADAS']].values\n",
    "data_encoded_y = scaler.fit_transform(data_encoded_y)"
   ]
  },
  {
   "cell_type": "markdown",
   "metadata": {},
   "source": [
    "Ahora, se divide el conjunto de datos en conjunto entrenamiento y testeo."
   ]
  },
  {
   "cell_type": "code",
   "execution_count": 5,
   "metadata": {},
   "outputs": [],
   "source": [
    "from sklearn.model_selection import train_test_split\n",
    "X_train, X_test, y_train, y_test = train_test_split(data_encoded_x,data_encoded_y , test_size=0.33, random_state=42)"
   ]
  },
  {
   "cell_type": "markdown",
   "metadata": {},
   "source": [
    "## Arquitectura del modelo de predicción"
   ]
  },
  {
   "cell_type": "markdown",
   "metadata": {},
   "source": [
    "Dada las caracteristicas de los datos y el problema se escoge un perceptron multicapa como modelo predictor. "
   ]
  },
  {
   "cell_type": "code",
   "execution_count": 6,
   "metadata": {},
   "outputs": [
    {
     "name": "stdout",
     "output_type": "stream",
     "text": [
      "Model: \"model\"\n",
      "_________________________________________________________________\n",
      "Layer (type)                 Output Shape              Param #   \n",
      "=================================================================\n",
      "input_1 (InputLayer)         [(None, 49)]              0         \n",
      "_________________________________________________________________\n",
      "dense (Dense)                (None, 300)               15000     \n",
      "_________________________________________________________________\n",
      "dense_1 (Dense)              (None, 1)                 301       \n",
      "=================================================================\n",
      "Total params: 15,301\n",
      "Trainable params: 15,301\n",
      "Non-trainable params: 0\n",
      "_________________________________________________________________\n"
     ]
    }
   ],
   "source": [
    "import tensorflow as tf\n",
    "from tensorflow import keras\n",
    "from tensorflow.keras import layers\n",
    "\n",
    "### MLP\n",
    "### eventualmente los datos podrian comportarse de forma no lineal por lo que se escoge la funcion de activacion relu.\n",
    "input1 = keras.layers.Input(shape=49)                          # capa de entrada\n",
    "layer2 = keras.layers.Dense(300, activation='relu')(input1 )   # capa intermedia de 300 neuronas ( no habia tiempo para probar mas valores)\n",
    "#layer3 = keras.layers.Dense(100, activation='relu')(layer2 )  #\n",
    "layer4 = keras.layers.Dense(1, activation='relu')(layer2 )     # capa de salida\n",
    "mlp = keras.models.Model(inputs=input1,outputs=layer4)\n",
    "\n",
    "mlp.summary()\n",
    "\n",
    "# Para este problema la funcion a minimizar es mean squared error puesto que se trata de un problema \n",
    "# del tipo regresion y la intencion es lograr prediccion lo mas exacta posibles. Se estudian 2 metricas.\n",
    "mlp.compile(loss='mean_squared_error', optimizer='adam', metrics=['mse','accuracy'])\n"
   ]
  },
  {
   "cell_type": "markdown",
   "metadata": {},
   "source": [
    "## Entrenamiento del modelo"
   ]
  },
  {
   "cell_type": "markdown",
   "metadata": {},
   "source": [
    "La cantidad de epocas, asi como el tamaño de batches han sido escogidos rapidamente sin ningun proceso de analisis ni estudio."
   ]
  },
  {
   "cell_type": "code",
   "execution_count": 7,
   "metadata": {},
   "outputs": [
    {
     "name": "stdout",
     "output_type": "stream",
     "text": [
      "Epoch 1/30\n",
      "26/26 [==============================] - 1s 10ms/step - loss: 0.0166 - mse: 0.0166 - accuracy: 0.0039 - val_loss: 0.0181 - val_mse: 0.0181 - val_accuracy: 0.0000e+00\n",
      "Epoch 2/30\n",
      "26/26 [==============================] - 0s 3ms/step - loss: 0.0099 - mse: 0.0099 - accuracy: 0.0039 - val_loss: 0.0176 - val_mse: 0.0176 - val_accuracy: 0.0000e+00\n",
      "Epoch 3/30\n",
      "26/26 [==============================] - 0s 3ms/step - loss: 0.0086 - mse: 0.0086 - accuracy: 0.0039 - val_loss: 0.0191 - val_mse: 0.0191 - val_accuracy: 0.0000e+00\n",
      "Epoch 4/30\n",
      "26/26 [==============================] - 0s 3ms/step - loss: 0.0082 - mse: 0.0082 - accuracy: 0.0078 - val_loss: 0.0196 - val_mse: 0.0196 - val_accuracy: 0.0000e+00\n",
      "Epoch 5/30\n",
      "26/26 [==============================] - 0s 3ms/step - loss: 0.0073 - mse: 0.0073 - accuracy: 0.0039 - val_loss: 0.0203 - val_mse: 0.0203 - val_accuracy: 0.0000e+00\n",
      "Epoch 6/30\n",
      "26/26 [==============================] - 0s 3ms/step - loss: 0.0070 - mse: 0.0070 - accuracy: 0.0039 - val_loss: 0.0217 - val_mse: 0.0217 - val_accuracy: 0.0000e+00\n",
      "Epoch 7/30\n",
      "26/26 [==============================] - 0s 3ms/step - loss: 0.0069 - mse: 0.0069 - accuracy: 0.0078 - val_loss: 0.0200 - val_mse: 0.0200 - val_accuracy: 0.0000e+00\n",
      "Epoch 8/30\n",
      "26/26 [==============================] - 0s 4ms/step - loss: 0.0064 - mse: 0.0064 - accuracy: 0.0078 - val_loss: 0.0220 - val_mse: 0.0220 - val_accuracy: 0.0000e+00\n",
      "Epoch 9/30\n",
      "26/26 [==============================] - 0s 3ms/step - loss: 0.0060 - mse: 0.0060 - accuracy: 0.0078 - val_loss: 0.0210 - val_mse: 0.0210 - val_accuracy: 0.0000e+00\n",
      "Epoch 10/30\n",
      "26/26 [==============================] - 0s 3ms/step - loss: 0.0063 - mse: 0.0063 - accuracy: 0.0078 - val_loss: 0.0199 - val_mse: 0.0199 - val_accuracy: 0.0000e+00\n",
      "Epoch 11/30\n",
      "26/26 [==============================] - 0s 4ms/step - loss: 0.0055 - mse: 0.0055 - accuracy: 0.0078 - val_loss: 0.0209 - val_mse: 0.0209 - val_accuracy: 0.0000e+00\n",
      "Epoch 12/30\n",
      "26/26 [==============================] - 0s 4ms/step - loss: 0.0061 - mse: 0.0061 - accuracy: 0.0078 - val_loss: 0.0210 - val_mse: 0.0210 - val_accuracy: 0.0000e+00\n",
      "Epoch 13/30\n",
      "26/26 [==============================] - 0s 4ms/step - loss: 0.0059 - mse: 0.0059 - accuracy: 0.0078 - val_loss: 0.0209 - val_mse: 0.0209 - val_accuracy: 0.0000e+00\n",
      "Epoch 14/30\n",
      "26/26 [==============================] - 0s 3ms/step - loss: 0.0057 - mse: 0.0057 - accuracy: 0.0078 - val_loss: 0.0206 - val_mse: 0.0206 - val_accuracy: 0.0000e+00\n",
      "Epoch 15/30\n",
      "26/26 [==============================] - 0s 3ms/step - loss: 0.0057 - mse: 0.0057 - accuracy: 0.0078 - val_loss: 0.0234 - val_mse: 0.0234 - val_accuracy: 0.0000e+00\n",
      "Epoch 16/30\n",
      "26/26 [==============================] - 0s 3ms/step - loss: 0.0058 - mse: 0.0058 - accuracy: 0.0078 - val_loss: 0.0225 - val_mse: 0.0225 - val_accuracy: 0.0000e+00\n",
      "Epoch 17/30\n",
      "26/26 [==============================] - 0s 3ms/step - loss: 0.0062 - mse: 0.0062 - accuracy: 0.0078 - val_loss: 0.0213 - val_mse: 0.0213 - val_accuracy: 0.0000e+00\n",
      "Epoch 18/30\n",
      "26/26 [==============================] - 0s 3ms/step - loss: 0.0061 - mse: 0.0061 - accuracy: 0.0078 - val_loss: 0.0210 - val_mse: 0.0210 - val_accuracy: 0.0000e+00\n",
      "Epoch 19/30\n",
      "26/26 [==============================] - 0s 3ms/step - loss: 0.0059 - mse: 0.0059 - accuracy: 0.0078 - val_loss: 0.0226 - val_mse: 0.0226 - val_accuracy: 0.0000e+00\n",
      "Epoch 20/30\n",
      "26/26 [==============================] - 0s 3ms/step - loss: 0.0059 - mse: 0.0059 - accuracy: 0.0078 - val_loss: 0.0212 - val_mse: 0.0212 - val_accuracy: 0.0000e+00\n",
      "Epoch 21/30\n",
      "26/26 [==============================] - 0s 3ms/step - loss: 0.0058 - mse: 0.0058 - accuracy: 0.0078 - val_loss: 0.0214 - val_mse: 0.0214 - val_accuracy: 0.0000e+00\n",
      "Epoch 22/30\n",
      "26/26 [==============================] - 0s 3ms/step - loss: 0.0061 - mse: 0.0061 - accuracy: 0.0078 - val_loss: 0.0218 - val_mse: 0.0218 - val_accuracy: 0.0000e+00\n",
      "Epoch 23/30\n",
      "26/26 [==============================] - 0s 3ms/step - loss: 0.0060 - mse: 0.0060 - accuracy: 0.0078 - val_loss: 0.0215 - val_mse: 0.0215 - val_accuracy: 0.0000e+00\n",
      "Epoch 24/30\n",
      "26/26 [==============================] - 0s 4ms/step - loss: 0.0056 - mse: 0.0056 - accuracy: 0.0078 - val_loss: 0.0224 - val_mse: 0.0224 - val_accuracy: 0.0000e+00\n",
      "Epoch 25/30\n",
      "26/26 [==============================] - 0s 4ms/step - loss: 0.0056 - mse: 0.0056 - accuracy: 0.0078 - val_loss: 0.0206 - val_mse: 0.0206 - val_accuracy: 0.0000e+00\n",
      "Epoch 26/30\n",
      "26/26 [==============================] - 0s 4ms/step - loss: 0.0063 - mse: 0.0063 - accuracy: 0.0078 - val_loss: 0.0225 - val_mse: 0.0225 - val_accuracy: 0.0000e+00\n",
      "Epoch 27/30\n",
      "26/26 [==============================] - 0s 4ms/step - loss: 0.0059 - mse: 0.0059 - accuracy: 0.0078 - val_loss: 0.0216 - val_mse: 0.0216 - val_accuracy: 0.0000e+00\n",
      "Epoch 28/30\n",
      "26/26 [==============================] - 0s 4ms/step - loss: 0.0057 - mse: 0.0057 - accuracy: 0.0078 - val_loss: 0.0222 - val_mse: 0.0222 - val_accuracy: 0.0000e+00\n",
      "Epoch 29/30\n",
      "26/26 [==============================] - 0s 4ms/step - loss: 0.0056 - mse: 0.0056 - accuracy: 0.0078 - val_loss: 0.0219 - val_mse: 0.0219 - val_accuracy: 0.0000e+00\n",
      "Epoch 30/30\n",
      "26/26 [==============================] - 0s 4ms/step - loss: 0.0059 - mse: 0.0059 - accuracy: 0.0078 - val_loss: 0.0215 - val_mse: 0.0215 - val_accuracy: 0.0000e+00\n"
     ]
    },
    {
     "data": {
      "text/plain": [
       "<keras.callbacks.History at 0x1af83ffabe0>"
      ]
     },
     "execution_count": 7,
     "metadata": {},
     "output_type": "execute_result"
    }
   ],
   "source": [
    "mlp.fit(X_train, y_train, batch_size=10, epochs=30, validation_split=0.2,shuffle=True)"
   ]
  },
  {
   "cell_type": "markdown",
   "metadata": {},
   "source": [
    "## Guardar el modelo "
   ]
  },
  {
   "cell_type": "markdown",
   "metadata": {},
   "source": [
    "Se guarda la arquitectura y pesos del modelo, ya que eventualmente este puede ser implementado en una nube para hacer predicciones de datos en tiempo real."
   ]
  },
  {
   "cell_type": "code",
   "execution_count": null,
   "metadata": {},
   "outputs": [],
   "source": [
    "# Esto es para guardar la arquitectura del modelo \n",
    "#model_json = mlp.to_json()\n",
    "#with open(\"Modelos_prediccion\\mlp.json\", \"w\") as json_file:\n",
    " #   json_file.write(model_json)\\n\",\n",
    "# serialize weights to HDF5\n",
    "#mlp.save_weights(\"Modelos_prediccion\\mlp.h5\")"
   ]
  },
  {
   "cell_type": "markdown",
   "metadata": {},
   "source": [
    "## Testeo del modelo"
   ]
  },
  {
   "cell_type": "code",
   "execution_count": 8,
   "metadata": {},
   "outputs": [
    {
     "name": "stdout",
     "output_type": "stream",
     "text": [
      "El error del modelo es   0.012716125376632414\n"
     ]
    }
   ],
   "source": [
    "#mlp.predict()\n",
    "y_pred = mlp.predict(X_test)\n",
    "score=np.square(np.subtract(y_test,y_pred)).mean() ## score del perceptron\n",
    "print('El error del modelo es   {}'.format(score))"
   ]
  },
  {
   "cell_type": "markdown",
   "metadata": {},
   "source": [
    "Ahora se aplica la inversa del escalamiento para estudiar la naturalidad de la variable predicha"
   ]
  },
  {
   "cell_type": "code",
   "execution_count": 9,
   "metadata": {},
   "outputs": [],
   "source": [
    "## variable predicha\n",
    "y_pred =  scaler.inverse_transform(y_pred)  ## horas prediccion durabilidad\n",
    "y_pred_dias= y_pred/24                      ## prediccion en dias\n",
    "#y_pred_dias=[item for y_pred_dias in y_pred_dias for item in y_pred_dias]\n",
    "## variable de testeo\n",
    "y_test =  scaler.inverse_transform(y_test)  ##  horas test durabilidad\n",
    "y_test_dias= y_test/24                      ## prediccion en dias\n",
    "#y_test_dias=[item for y_test_dias in y_test_dias for item in y_test_dias]\n"
   ]
  },
  {
   "cell_type": "code",
   "execution_count": 42,
   "metadata": {},
   "outputs": [],
   "source": [
    "tabla = np.concatenate((   X_test, y_pred_dias,y_test_dias), axis=1)\n",
    "columnas=data_encoded.columns.tolist()\n",
    "columnas.remove(\"HORAS ACUMULADAS\") \n",
    "columnas.append('dias_utilizacion_componente')\n",
    "columnas.append('dias_prediccion_componente')\n",
    "tabla= pd.DataFrame(tabla,columns=columnas)"
   ]
  },
  {
   "cell_type": "code",
   "execution_count": 43,
   "metadata": {},
   "outputs": [
    {
     "data": {
      "text/html": [
       "<div>\n",
       "<style scoped>\n",
       "    .dataframe tbody tr th:only-of-type {\n",
       "        vertical-align: middle;\n",
       "    }\n",
       "\n",
       "    .dataframe tbody tr th {\n",
       "        vertical-align: top;\n",
       "    }\n",
       "\n",
       "    .dataframe thead th {\n",
       "        text-align: right;\n",
       "    }\n",
       "</style>\n",
       "<table border=\"1\" class=\"dataframe\">\n",
       "  <thead>\n",
       "    <tr style=\"text-align: right;\">\n",
       "      <th></th>\n",
       "      <th>MODELO_793C</th>\n",
       "      <th>MODELO_793D</th>\n",
       "      <th>MODELO_793F</th>\n",
       "      <th>EQUIPO_CEX20</th>\n",
       "      <th>EQUIPO_CEX23</th>\n",
       "      <th>EQUIPO_CEX05</th>\n",
       "      <th>EQUIPO_CEX24</th>\n",
       "      <th>EQUIPO_CEX28</th>\n",
       "      <th>EQUIPO_CEX31</th>\n",
       "      <th>EQUIPO_CEX29</th>\n",
       "      <th>...</th>\n",
       "      <th>EQUIPO_CEX07</th>\n",
       "      <th>EQUIPO_CEX18</th>\n",
       "      <th>COMPONENTE_DIFERENCIAL</th>\n",
       "      <th>COMPONENTE_MOTOR</th>\n",
       "      <th>COMPONENTE_MANDO FINAL IZQUIERDO</th>\n",
       "      <th>COMPONENTE_MANDO FINAL DERECHO</th>\n",
       "      <th>COMPONENTE_TRANSMISION</th>\n",
       "      <th>PCR</th>\n",
       "      <th>dias_utilizacion_componente</th>\n",
       "      <th>dias_prediccion_componente</th>\n",
       "    </tr>\n",
       "  </thead>\n",
       "  <tbody>\n",
       "    <tr>\n",
       "      <th>0</th>\n",
       "      <td>0.0</td>\n",
       "      <td>0.0</td>\n",
       "      <td>1.0</td>\n",
       "      <td>0.0</td>\n",
       "      <td>0.0</td>\n",
       "      <td>0.0</td>\n",
       "      <td>0.0</td>\n",
       "      <td>0.0</td>\n",
       "      <td>0.0</td>\n",
       "      <td>0.0</td>\n",
       "      <td>...</td>\n",
       "      <td>0.0</td>\n",
       "      <td>0.0</td>\n",
       "      <td>0.0</td>\n",
       "      <td>0.0</td>\n",
       "      <td>0.0</td>\n",
       "      <td>0.0</td>\n",
       "      <td>1.0</td>\n",
       "      <td>0.200000</td>\n",
       "      <td>223.249313</td>\n",
       "      <td>0.083333</td>\n",
       "    </tr>\n",
       "    <tr>\n",
       "      <th>1</th>\n",
       "      <td>1.0</td>\n",
       "      <td>0.0</td>\n",
       "      <td>0.0</td>\n",
       "      <td>0.0</td>\n",
       "      <td>0.0</td>\n",
       "      <td>0.0</td>\n",
       "      <td>0.0</td>\n",
       "      <td>0.0</td>\n",
       "      <td>0.0</td>\n",
       "      <td>0.0</td>\n",
       "      <td>...</td>\n",
       "      <td>0.0</td>\n",
       "      <td>0.0</td>\n",
       "      <td>0.0</td>\n",
       "      <td>0.0</td>\n",
       "      <td>0.0</td>\n",
       "      <td>1.0</td>\n",
       "      <td>0.0</td>\n",
       "      <td>0.533333</td>\n",
       "      <td>946.722473</td>\n",
       "      <td>917.000000</td>\n",
       "    </tr>\n",
       "    <tr>\n",
       "      <th>2</th>\n",
       "      <td>0.0</td>\n",
       "      <td>0.0</td>\n",
       "      <td>1.0</td>\n",
       "      <td>0.0</td>\n",
       "      <td>0.0</td>\n",
       "      <td>0.0</td>\n",
       "      <td>0.0</td>\n",
       "      <td>0.0</td>\n",
       "      <td>0.0</td>\n",
       "      <td>0.0</td>\n",
       "      <td>...</td>\n",
       "      <td>0.0</td>\n",
       "      <td>0.0</td>\n",
       "      <td>0.0</td>\n",
       "      <td>0.0</td>\n",
       "      <td>1.0</td>\n",
       "      <td>0.0</td>\n",
       "      <td>0.0</td>\n",
       "      <td>0.533333</td>\n",
       "      <td>1317.657715</td>\n",
       "      <td>110.166667</td>\n",
       "    </tr>\n",
       "    <tr>\n",
       "      <th>3</th>\n",
       "      <td>0.0</td>\n",
       "      <td>0.0</td>\n",
       "      <td>1.0</td>\n",
       "      <td>0.0</td>\n",
       "      <td>0.0</td>\n",
       "      <td>0.0</td>\n",
       "      <td>0.0</td>\n",
       "      <td>0.0</td>\n",
       "      <td>0.0</td>\n",
       "      <td>1.0</td>\n",
       "      <td>...</td>\n",
       "      <td>0.0</td>\n",
       "      <td>0.0</td>\n",
       "      <td>0.0</td>\n",
       "      <td>1.0</td>\n",
       "      <td>0.0</td>\n",
       "      <td>0.0</td>\n",
       "      <td>0.0</td>\n",
       "      <td>0.000000</td>\n",
       "      <td>361.940948</td>\n",
       "      <td>947.583333</td>\n",
       "    </tr>\n",
       "    <tr>\n",
       "      <th>4</th>\n",
       "      <td>1.0</td>\n",
       "      <td>0.0</td>\n",
       "      <td>0.0</td>\n",
       "      <td>0.0</td>\n",
       "      <td>0.0</td>\n",
       "      <td>0.0</td>\n",
       "      <td>0.0</td>\n",
       "      <td>0.0</td>\n",
       "      <td>0.0</td>\n",
       "      <td>0.0</td>\n",
       "      <td>...</td>\n",
       "      <td>0.0</td>\n",
       "      <td>0.0</td>\n",
       "      <td>0.0</td>\n",
       "      <td>1.0</td>\n",
       "      <td>0.0</td>\n",
       "      <td>0.0</td>\n",
       "      <td>0.0</td>\n",
       "      <td>0.000000</td>\n",
       "      <td>588.117004</td>\n",
       "      <td>811.166667</td>\n",
       "    </tr>\n",
       "    <tr>\n",
       "      <th>...</th>\n",
       "      <td>...</td>\n",
       "      <td>...</td>\n",
       "      <td>...</td>\n",
       "      <td>...</td>\n",
       "      <td>...</td>\n",
       "      <td>...</td>\n",
       "      <td>...</td>\n",
       "      <td>...</td>\n",
       "      <td>...</td>\n",
       "      <td>...</td>\n",
       "      <td>...</td>\n",
       "      <td>...</td>\n",
       "      <td>...</td>\n",
       "      <td>...</td>\n",
       "      <td>...</td>\n",
       "      <td>...</td>\n",
       "      <td>...</td>\n",
       "      <td>...</td>\n",
       "      <td>...</td>\n",
       "      <td>...</td>\n",
       "      <td>...</td>\n",
       "    </tr>\n",
       "    <tr>\n",
       "      <th>154</th>\n",
       "      <td>1.0</td>\n",
       "      <td>0.0</td>\n",
       "      <td>0.0</td>\n",
       "      <td>0.0</td>\n",
       "      <td>0.0</td>\n",
       "      <td>0.0</td>\n",
       "      <td>0.0</td>\n",
       "      <td>0.0</td>\n",
       "      <td>0.0</td>\n",
       "      <td>0.0</td>\n",
       "      <td>...</td>\n",
       "      <td>0.0</td>\n",
       "      <td>0.0</td>\n",
       "      <td>0.0</td>\n",
       "      <td>0.0</td>\n",
       "      <td>0.0</td>\n",
       "      <td>1.0</td>\n",
       "      <td>0.0</td>\n",
       "      <td>0.533333</td>\n",
       "      <td>796.889587</td>\n",
       "      <td>560.791667</td>\n",
       "    </tr>\n",
       "    <tr>\n",
       "      <th>155</th>\n",
       "      <td>0.0</td>\n",
       "      <td>0.0</td>\n",
       "      <td>1.0</td>\n",
       "      <td>0.0</td>\n",
       "      <td>0.0</td>\n",
       "      <td>0.0</td>\n",
       "      <td>0.0</td>\n",
       "      <td>0.0</td>\n",
       "      <td>0.0</td>\n",
       "      <td>0.0</td>\n",
       "      <td>...</td>\n",
       "      <td>0.0</td>\n",
       "      <td>0.0</td>\n",
       "      <td>0.0</td>\n",
       "      <td>0.0</td>\n",
       "      <td>0.0</td>\n",
       "      <td>0.0</td>\n",
       "      <td>1.0</td>\n",
       "      <td>0.200000</td>\n",
       "      <td>713.710144</td>\n",
       "      <td>867.375000</td>\n",
       "    </tr>\n",
       "    <tr>\n",
       "      <th>156</th>\n",
       "      <td>1.0</td>\n",
       "      <td>0.0</td>\n",
       "      <td>0.0</td>\n",
       "      <td>0.0</td>\n",
       "      <td>0.0</td>\n",
       "      <td>1.0</td>\n",
       "      <td>0.0</td>\n",
       "      <td>0.0</td>\n",
       "      <td>0.0</td>\n",
       "      <td>0.0</td>\n",
       "      <td>...</td>\n",
       "      <td>0.0</td>\n",
       "      <td>0.0</td>\n",
       "      <td>0.0</td>\n",
       "      <td>0.0</td>\n",
       "      <td>0.0</td>\n",
       "      <td>1.0</td>\n",
       "      <td>0.0</td>\n",
       "      <td>0.533333</td>\n",
       "      <td>799.843079</td>\n",
       "      <td>888.541667</td>\n",
       "    </tr>\n",
       "    <tr>\n",
       "      <th>157</th>\n",
       "      <td>1.0</td>\n",
       "      <td>0.0</td>\n",
       "      <td>0.0</td>\n",
       "      <td>0.0</td>\n",
       "      <td>0.0</td>\n",
       "      <td>0.0</td>\n",
       "      <td>0.0</td>\n",
       "      <td>0.0</td>\n",
       "      <td>0.0</td>\n",
       "      <td>0.0</td>\n",
       "      <td>...</td>\n",
       "      <td>0.0</td>\n",
       "      <td>0.0</td>\n",
       "      <td>0.0</td>\n",
       "      <td>0.0</td>\n",
       "      <td>0.0</td>\n",
       "      <td>0.0</td>\n",
       "      <td>1.0</td>\n",
       "      <td>0.200000</td>\n",
       "      <td>366.532227</td>\n",
       "      <td>627.291667</td>\n",
       "    </tr>\n",
       "    <tr>\n",
       "      <th>158</th>\n",
       "      <td>1.0</td>\n",
       "      <td>0.0</td>\n",
       "      <td>0.0</td>\n",
       "      <td>0.0</td>\n",
       "      <td>0.0</td>\n",
       "      <td>0.0</td>\n",
       "      <td>0.0</td>\n",
       "      <td>0.0</td>\n",
       "      <td>0.0</td>\n",
       "      <td>0.0</td>\n",
       "      <td>...</td>\n",
       "      <td>0.0</td>\n",
       "      <td>1.0</td>\n",
       "      <td>0.0</td>\n",
       "      <td>0.0</td>\n",
       "      <td>0.0</td>\n",
       "      <td>0.0</td>\n",
       "      <td>1.0</td>\n",
       "      <td>0.466667</td>\n",
       "      <td>461.630859</td>\n",
       "      <td>1089.625000</td>\n",
       "    </tr>\n",
       "  </tbody>\n",
       "</table>\n",
       "<p>159 rows × 51 columns</p>\n",
       "</div>"
      ],
      "text/plain": [
       "     MODELO_793C  MODELO_793D  MODELO_793F  EQUIPO_CEX20  EQUIPO_CEX23  \\\n",
       "0            0.0          0.0          1.0           0.0           0.0   \n",
       "1            1.0          0.0          0.0           0.0           0.0   \n",
       "2            0.0          0.0          1.0           0.0           0.0   \n",
       "3            0.0          0.0          1.0           0.0           0.0   \n",
       "4            1.0          0.0          0.0           0.0           0.0   \n",
       "..           ...          ...          ...           ...           ...   \n",
       "154          1.0          0.0          0.0           0.0           0.0   \n",
       "155          0.0          0.0          1.0           0.0           0.0   \n",
       "156          1.0          0.0          0.0           0.0           0.0   \n",
       "157          1.0          0.0          0.0           0.0           0.0   \n",
       "158          1.0          0.0          0.0           0.0           0.0   \n",
       "\n",
       "     EQUIPO_CEX05  EQUIPO_CEX24  EQUIPO_CEX28  EQUIPO_CEX31  EQUIPO_CEX29  \\\n",
       "0             0.0           0.0           0.0           0.0           0.0   \n",
       "1             0.0           0.0           0.0           0.0           0.0   \n",
       "2             0.0           0.0           0.0           0.0           0.0   \n",
       "3             0.0           0.0           0.0           0.0           1.0   \n",
       "4             0.0           0.0           0.0           0.0           0.0   \n",
       "..            ...           ...           ...           ...           ...   \n",
       "154           0.0           0.0           0.0           0.0           0.0   \n",
       "155           0.0           0.0           0.0           0.0           0.0   \n",
       "156           1.0           0.0           0.0           0.0           0.0   \n",
       "157           0.0           0.0           0.0           0.0           0.0   \n",
       "158           0.0           0.0           0.0           0.0           0.0   \n",
       "\n",
       "     ...  EQUIPO_CEX07  EQUIPO_CEX18  COMPONENTE_DIFERENCIAL  \\\n",
       "0    ...           0.0           0.0                     0.0   \n",
       "1    ...           0.0           0.0                     0.0   \n",
       "2    ...           0.0           0.0                     0.0   \n",
       "3    ...           0.0           0.0                     0.0   \n",
       "4    ...           0.0           0.0                     0.0   \n",
       "..   ...           ...           ...                     ...   \n",
       "154  ...           0.0           0.0                     0.0   \n",
       "155  ...           0.0           0.0                     0.0   \n",
       "156  ...           0.0           0.0                     0.0   \n",
       "157  ...           0.0           0.0                     0.0   \n",
       "158  ...           0.0           1.0                     0.0   \n",
       "\n",
       "     COMPONENTE_MOTOR  COMPONENTE_MANDO FINAL IZQUIERDO  \\\n",
       "0                 0.0                               0.0   \n",
       "1                 0.0                               0.0   \n",
       "2                 0.0                               1.0   \n",
       "3                 1.0                               0.0   \n",
       "4                 1.0                               0.0   \n",
       "..                ...                               ...   \n",
       "154               0.0                               0.0   \n",
       "155               0.0                               0.0   \n",
       "156               0.0                               0.0   \n",
       "157               0.0                               0.0   \n",
       "158               0.0                               0.0   \n",
       "\n",
       "     COMPONENTE_MANDO FINAL DERECHO  COMPONENTE_TRANSMISION       PCR  \\\n",
       "0                               0.0                     1.0  0.200000   \n",
       "1                               1.0                     0.0  0.533333   \n",
       "2                               0.0                     0.0  0.533333   \n",
       "3                               0.0                     0.0  0.000000   \n",
       "4                               0.0                     0.0  0.000000   \n",
       "..                              ...                     ...       ...   \n",
       "154                             1.0                     0.0  0.533333   \n",
       "155                             0.0                     1.0  0.200000   \n",
       "156                             1.0                     0.0  0.533333   \n",
       "157                             0.0                     1.0  0.200000   \n",
       "158                             0.0                     1.0  0.466667   \n",
       "\n",
       "     dias_utilizacion_componente  dias_prediccion_componente  \n",
       "0                     223.249313                    0.083333  \n",
       "1                     946.722473                  917.000000  \n",
       "2                    1317.657715                  110.166667  \n",
       "3                     361.940948                  947.583333  \n",
       "4                     588.117004                  811.166667  \n",
       "..                           ...                         ...  \n",
       "154                   796.889587                  560.791667  \n",
       "155                   713.710144                  867.375000  \n",
       "156                   799.843079                  888.541667  \n",
       "157                   366.532227                  627.291667  \n",
       "158                   461.630859                 1089.625000  \n",
       "\n",
       "[159 rows x 51 columns]"
      ]
     },
     "execution_count": 43,
     "metadata": {},
     "output_type": "execute_result"
    }
   ],
   "source": [
    "tabla"
   ]
  },
  {
   "cell_type": "code",
   "execution_count": 15,
   "metadata": {},
   "outputs": [
    {
     "data": {
      "text/plain": [
       "[<matplotlib.lines.Line2D at 0x204091b17c0>]"
      ]
     },
     "execution_count": 15,
     "metadata": {},
     "output_type": "execute_result"
    },
    {
     "data": {
      "image/png": "[encoded data removed]",
      "text/plain": [
       "<Figure size 432x288 with 1 Axes>"
      ]
     },
     "metadata": {
      "needs_background": "light"
     },
     "output_type": "display_data"
    }
   ],
   "source": [
    "#import matplotlib.pyplot as plt\n",
    "\n",
    "\n",
    "#plt.plot(y_test)\n",
    "#plt.plot(y_pred)\n",
    "\n"
   ]
  }
 ],
 "metadata": {
  "interpreter": {
   "hash": "216fded6b3b74b33232797b249be63a48d3e10a846382fdb5d7f3f7104de87e6"
  },
  "kernelspec": {
   "display_name": "Python 3.9.7 64-bit (windows store)",
   "name": "python3"
  },
  "language_info": {
   "codemirror_mode": {
    "name": "ipython",
    "version": 3
   },
   "file_extension": ".py",
   "mimetype": "text/x-python",
   "name": "python",
   "nbconvert_exporter": "python",
   "pygments_lexer": "ipython3",
   "version": "3.9.7"
  },
  "orig_nbformat": 4
 },
 "nbformat": 4,
 "nbformat_minor": 2
}
